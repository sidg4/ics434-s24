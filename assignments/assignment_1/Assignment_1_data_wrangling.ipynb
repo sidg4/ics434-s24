{
 "cells": [
  {
   "cell_type": "markdown",
   "metadata": {},
   "source": [
    "### Brief Overview \n",
    "\n",
    "This assignment involves practicing data wrangling techniques that are frequently applied in real-world scenarios. The goal of this assignment is to produce a table that shows the cost of medication per Medicaid enrollee in each state. This table will enable analyses such as:\n",
    "  * Identifying the medications that constitute the majority of a state's Medicaid spending\n",
    "  * Comparing the frequency of specific medication prescriptions across states\n",
    "\n",
    "The datasets needed for this assignment are available at the following URLs:\n",
    "  * [medicaid_data.csv](https://www.dropbox.com/s/u6ctjqxnk0wxpbk/medicaid_data.csv?dl=1)\n",
    "  * [medicaid_enrollment.tsv](https://www.dropbox.com/s/969mohzhpu78r10/medicaid_enrollment.tsv?dl=1)\n",
    "  * [tax_data.csv](https://www.dropbox.com/s/zm37nu7vnirha4m/tax_data.csv?dl=1)\n"
   ]
  },
  {
   "cell_type": "markdown",
   "metadata": {},
   "source": [
    "### Instructions on answering the questions\n",
    "\n",
    "- Some questions require the use of only `DataFrame` or `Series` methods or properties. Solutions that do not use methods on `DataFrame` or `Series` are not acceptable, even if they provide the correct answer.\n",
    "\n",
    "- For example, to find the number of entries in `tax_data` using only its methods or properties, `len(tax_data)` is incorrect because `len()` is not a method of `tax_data`. The statement below is correct:\n",
    "\n",
    "\n",
    "  - `shape` property of `tax_data`:\n",
    "  \n",
    "    ```python\n",
    "    tax_data.shape\n",
    "    ```\n",
    "\n",
    "- To count unique entries in a column called `STATEFIPS` of a dataset called `tax_data`, the following illustrates an unacceptable and an acceptable approach:\n",
    "\n",
    "- Incorrect due to use of `set()` and `len()`, which are not methods of `tax_data`:\n",
    "\n",
    "    ```python\n",
    "    len(set(tax_data[\"STATEFIPS\"]))\n",
    "    ```\n",
    "\n",
    "- Incorrect, although using `unique()`, a `tax_data` method, it incorrectly applies `len()`, not a method of `tax_data`, to count unique entries:\n",
    "\n",
    "    ```python\n",
    "    len(tax_data[\"STATEFIPS\"].unique())\n",
    "    ```\n",
    "\n",
    "- Correct, as it uses `nunique()`, a method of the `Series` from `tax_data['STATEFIPS']`:\n",
    "\n",
    "    ```python\n",
    "    tax_data['STATEFIPS'].nunique()\n",
    "    ```\n",
    "\n",
    "- Chaining methods and properties is recommended unless it leads to confusion. For example, to check for a value in the index:\n",
    "\n",
    "    ```python\n",
    "    tax_data.index.contains(99999)\n",
    "    ```\n",
    "\n",
    "- Instead of:\n",
    "\n",
    "    ```python\n",
    "    99999 in tax_data.index\n",
    "    ```\n",
    "\n",
    "- Only `pandas` and `numpy` may be imported. \n",
    "\n",
    "- __Important__: Clearly state the exact commands used for each answer.\n",
    "\n",
    "- Multiple lines of code per cell are permitted unless stated otherwise.\n",
    "\n",
    "- Use`.SHIFT+TAB` to \"explore\" methods and properties available on `DataFrame` or `Series`. For detailed documentation on a method, press `.SHIFT+TAB` twice. This approach will not only help you find solutions to the questions but also improve your understanding of `pandas`.\n"
   ]
  },
  {
   "cell_type": "markdown",
   "metadata": {},
   "source": [
    "### 1. Loading and exploring the tax data"
   ]
  },
  {
   "cell_type": "markdown",
   "metadata": {},
   "source": [
    "Import the libraries `Pandas` and `numpy` using their standard aliases."
   ]
  },
  {
   "cell_type": "code",
   "execution_count": 1,
   "metadata": {
    "ExecuteTime": {
     "end_time": "2024-03-12T09:33:07.546925Z",
     "start_time": "2024-03-12T09:33:05.893417Z"
    }
   },
   "outputs": [],
   "source": [
    "# WRITE YOUR CODE HERE\n",
    "import pandas as pd\n",
    "import numpy as np"
   ]
  },
  {
   "cell_type": "markdown",
   "metadata": {},
   "source": [
    "- Import the IRS Statistics of Income (SOI) dataset from the provided CSV file (`tax_data.csv`) into a DataFrame named `tax_data`.\n",
    "\n",
    "- The dataset in `tax_data.csv` has been preprocessed from its original form available at this URL:\n",
    "  - [15zpallagi.csv](https://www.irs.gov/pub/irs-soi/15zpallagi.csv)\n"
   ]
  },
  {
   "cell_type": "code",
   "execution_count": 2,
   "metadata": {
    "ExecuteTime": {
     "end_time": "2024-03-12T09:33:25.014740Z",
     "start_time": "2024-03-12T09:33:16.567377Z"
    }
   },
   "outputs": [],
   "source": [
    "## WRITE YOUR CODE HERE \n",
    "tax_data = pd.read_csv('https://www.dropbox.com/s/zm37nu7vnirha4m/tax_data.csv?dl=1');"
   ]
  },
  {
   "cell_type": "markdown",
   "metadata": {},
   "source": [
    "- Display the first eight rows of the DataFrame using the `tax_data` method or property.\n"
   ]
  },
  {
   "cell_type": "code",
   "execution_count": 3,
   "metadata": {
    "ExecuteTime": {
     "end_time": "2024-03-12T09:33:33.712790Z",
     "start_time": "2024-03-12T09:33:33.682848Z"
    }
   },
   "outputs": [
    {
     "data": {
      "text/plain": "   STATEFIPS STATE  zipcode  agi_stub        N1     mars1     MARS2     MARS4  \\\n0        1.0    AL      0.0       1.0  836320.0  481570.0  109790.0  233260.0   \n1        1.0    AL      0.0       2.0  494830.0  206630.0  146250.0  129390.0   \n2        1.0    AL      0.0       3.0  261250.0   80720.0  139280.0   36130.0   \n3        1.0    AL      0.0       4.0  166690.0   28510.0  124650.0   10630.0   \n4        1.0    AL      0.0       5.0  212660.0   19520.0  184320.0    4830.0   \n5        1.0    AL      0.0       6.0   55360.0    2950.0   49260.0     350.0   \n6        1.0    AL  35004.0       1.0    1490.0     970.0     230.0     280.0   \n7        1.0    AL  35004.0       2.0    1350.0     630.0     360.0     300.0   \n\n       PREP         N2  ...    N10300     A10300   N85530   A85530   N85300  \\\n0  455560.0  1356760.0  ...  373410.0   328469.0      0.0      0.0      0.0   \n1  275920.0  1010990.0  ...  395880.0   965011.0      0.0      0.0      0.0   \n2  155100.0   583910.0  ...  251490.0  1333418.0      0.0      0.0      0.0   \n3   99950.0   423990.0  ...  165320.0  1414283.0      0.0      0.0      0.0   \n4  126860.0   589490.0  ...  212000.0  3820152.0    420.0    168.0     60.0   \n5   41410.0   160530.0  ...   55300.0  6027793.0  22090.0  39519.0  27550.0   \n6     700.0     2160.0  ...     690.0      610.0      0.0      0.0      0.0   \n7     610.0     2540.0  ...    1140.0     3019.0      0.0      0.0      0.0   \n\n    A85300   N11901    A11901    N11902     A11902  \n0      0.0  61920.0   48150.0  732670.0  1933120.0  \n1      0.0  73720.0  107304.0  415410.0  1187403.0  \n2      0.0  64200.0  139598.0  193030.0   536699.0  \n3      0.0  45460.0  128823.0  116440.0   377177.0  \n4     31.0  83330.0  421004.0  121570.0   483682.0  \n5  95112.0  28590.0  791573.0   15960.0   250289.0  \n6      0.0    120.0      94.0    1290.0     2792.0  \n7      0.0    210.0     301.0    1130.0     2935.0  \n\n[8 rows x 131 columns]",
      "text/html": "<div>\n<style scoped>\n    .dataframe tbody tr th:only-of-type {\n        vertical-align: middle;\n    }\n\n    .dataframe tbody tr th {\n        vertical-align: top;\n    }\n\n    .dataframe thead th {\n        text-align: right;\n    }\n</style>\n<table border=\"1\" class=\"dataframe\">\n  <thead>\n    <tr style=\"text-align: right;\">\n      <th></th>\n      <th>STATEFIPS</th>\n      <th>STATE</th>\n      <th>zipcode</th>\n      <th>agi_stub</th>\n      <th>N1</th>\n      <th>mars1</th>\n      <th>MARS2</th>\n      <th>MARS4</th>\n      <th>PREP</th>\n      <th>N2</th>\n      <th>...</th>\n      <th>N10300</th>\n      <th>A10300</th>\n      <th>N85530</th>\n      <th>A85530</th>\n      <th>N85300</th>\n      <th>A85300</th>\n      <th>N11901</th>\n      <th>A11901</th>\n      <th>N11902</th>\n      <th>A11902</th>\n    </tr>\n  </thead>\n  <tbody>\n    <tr>\n      <th>0</th>\n      <td>1.0</td>\n      <td>AL</td>\n      <td>0.0</td>\n      <td>1.0</td>\n      <td>836320.0</td>\n      <td>481570.0</td>\n      <td>109790.0</td>\n      <td>233260.0</td>\n      <td>455560.0</td>\n      <td>1356760.0</td>\n      <td>...</td>\n      <td>373410.0</td>\n      <td>328469.0</td>\n      <td>0.0</td>\n      <td>0.0</td>\n      <td>0.0</td>\n      <td>0.0</td>\n      <td>61920.0</td>\n      <td>48150.0</td>\n      <td>732670.0</td>\n      <td>1933120.0</td>\n    </tr>\n    <tr>\n      <th>1</th>\n      <td>1.0</td>\n      <td>AL</td>\n      <td>0.0</td>\n      <td>2.0</td>\n      <td>494830.0</td>\n      <td>206630.0</td>\n      <td>146250.0</td>\n      <td>129390.0</td>\n      <td>275920.0</td>\n      <td>1010990.0</td>\n      <td>...</td>\n      <td>395880.0</td>\n      <td>965011.0</td>\n      <td>0.0</td>\n      <td>0.0</td>\n      <td>0.0</td>\n      <td>0.0</td>\n      <td>73720.0</td>\n      <td>107304.0</td>\n      <td>415410.0</td>\n      <td>1187403.0</td>\n    </tr>\n    <tr>\n      <th>2</th>\n      <td>1.0</td>\n      <td>AL</td>\n      <td>0.0</td>\n      <td>3.0</td>\n      <td>261250.0</td>\n      <td>80720.0</td>\n      <td>139280.0</td>\n      <td>36130.0</td>\n      <td>155100.0</td>\n      <td>583910.0</td>\n      <td>...</td>\n      <td>251490.0</td>\n      <td>1333418.0</td>\n      <td>0.0</td>\n      <td>0.0</td>\n      <td>0.0</td>\n      <td>0.0</td>\n      <td>64200.0</td>\n      <td>139598.0</td>\n      <td>193030.0</td>\n      <td>536699.0</td>\n    </tr>\n    <tr>\n      <th>3</th>\n      <td>1.0</td>\n      <td>AL</td>\n      <td>0.0</td>\n      <td>4.0</td>\n      <td>166690.0</td>\n      <td>28510.0</td>\n      <td>124650.0</td>\n      <td>10630.0</td>\n      <td>99950.0</td>\n      <td>423990.0</td>\n      <td>...</td>\n      <td>165320.0</td>\n      <td>1414283.0</td>\n      <td>0.0</td>\n      <td>0.0</td>\n      <td>0.0</td>\n      <td>0.0</td>\n      <td>45460.0</td>\n      <td>128823.0</td>\n      <td>116440.0</td>\n      <td>377177.0</td>\n    </tr>\n    <tr>\n      <th>4</th>\n      <td>1.0</td>\n      <td>AL</td>\n      <td>0.0</td>\n      <td>5.0</td>\n      <td>212660.0</td>\n      <td>19520.0</td>\n      <td>184320.0</td>\n      <td>4830.0</td>\n      <td>126860.0</td>\n      <td>589490.0</td>\n      <td>...</td>\n      <td>212000.0</td>\n      <td>3820152.0</td>\n      <td>420.0</td>\n      <td>168.0</td>\n      <td>60.0</td>\n      <td>31.0</td>\n      <td>83330.0</td>\n      <td>421004.0</td>\n      <td>121570.0</td>\n      <td>483682.0</td>\n    </tr>\n    <tr>\n      <th>5</th>\n      <td>1.0</td>\n      <td>AL</td>\n      <td>0.0</td>\n      <td>6.0</td>\n      <td>55360.0</td>\n      <td>2950.0</td>\n      <td>49260.0</td>\n      <td>350.0</td>\n      <td>41410.0</td>\n      <td>160530.0</td>\n      <td>...</td>\n      <td>55300.0</td>\n      <td>6027793.0</td>\n      <td>22090.0</td>\n      <td>39519.0</td>\n      <td>27550.0</td>\n      <td>95112.0</td>\n      <td>28590.0</td>\n      <td>791573.0</td>\n      <td>15960.0</td>\n      <td>250289.0</td>\n    </tr>\n    <tr>\n      <th>6</th>\n      <td>1.0</td>\n      <td>AL</td>\n      <td>35004.0</td>\n      <td>1.0</td>\n      <td>1490.0</td>\n      <td>970.0</td>\n      <td>230.0</td>\n      <td>280.0</td>\n      <td>700.0</td>\n      <td>2160.0</td>\n      <td>...</td>\n      <td>690.0</td>\n      <td>610.0</td>\n      <td>0.0</td>\n      <td>0.0</td>\n      <td>0.0</td>\n      <td>0.0</td>\n      <td>120.0</td>\n      <td>94.0</td>\n      <td>1290.0</td>\n      <td>2792.0</td>\n    </tr>\n    <tr>\n      <th>7</th>\n      <td>1.0</td>\n      <td>AL</td>\n      <td>35004.0</td>\n      <td>2.0</td>\n      <td>1350.0</td>\n      <td>630.0</td>\n      <td>360.0</td>\n      <td>300.0</td>\n      <td>610.0</td>\n      <td>2540.0</td>\n      <td>...</td>\n      <td>1140.0</td>\n      <td>3019.0</td>\n      <td>0.0</td>\n      <td>0.0</td>\n      <td>0.0</td>\n      <td>0.0</td>\n      <td>210.0</td>\n      <td>301.0</td>\n      <td>1130.0</td>\n      <td>2935.0</td>\n    </tr>\n  </tbody>\n</table>\n<p>8 rows × 131 columns</p>\n</div>"
     },
     "execution_count": 3,
     "metadata": {},
     "output_type": "execute_result"
    }
   ],
   "source": [
    "## WRITE YOUR CODE HERE \n",
    "tax_data.head(8)"
   ]
  },
  {
   "cell_type": "markdown",
   "metadata": {},
   "source": [
    "- Rewrite the headers of `tax_data` to uppercase.\n",
    "  - Utilize only `DataFrame` or `Series` methods or properties for this task.\n",
    "  - Avoid manually specifying uppercase column names; instead, apply a method to convert them automatically.\n",
    "  - Leverage the `tax_data.columns` attribute, which provides a `Series` of the column names, in your solution.\n",
    "\n",
    "- Expected outcome for the column names:\n",
    " ```STATEFIPS, STATE, ZIPCODE, AGI_STUB, N1, MARS1, MARS2, MARS4, PREP, N2, ...```\n",
    "\n",
    "- Note: Converting column names to uppercase enhances consistency, eliminating the need to remember the case sensitivity of column headers.\n"
   ]
  },
  {
   "cell_type": "code",
   "execution_count": 4,
   "metadata": {
    "ExecuteTime": {
     "end_time": "2024-03-12T09:34:03.877756Z",
     "start_time": "2024-03-12T09:34:03.858119Z"
    }
   },
   "outputs": [
    {
     "data": {
      "text/plain": "   STATEFIPS STATE  ZIPCODE  AGI_STUB        N1     MARS1     MARS2     MARS4  \\\n0        1.0    AL      0.0       1.0  836320.0  481570.0  109790.0  233260.0   \n1        1.0    AL      0.0       2.0  494830.0  206630.0  146250.0  129390.0   \n2        1.0    AL      0.0       3.0  261250.0   80720.0  139280.0   36130.0   \n3        1.0    AL      0.0       4.0  166690.0   28510.0  124650.0   10630.0   \n4        1.0    AL      0.0       5.0  212660.0   19520.0  184320.0    4830.0   \n5        1.0    AL      0.0       6.0   55360.0    2950.0   49260.0     350.0   \n6        1.0    AL  35004.0       1.0    1490.0     970.0     230.0     280.0   \n7        1.0    AL  35004.0       2.0    1350.0     630.0     360.0     300.0   \n\n       PREP         N2  ...    N10300     A10300   N85530   A85530   N85300  \\\n0  455560.0  1356760.0  ...  373410.0   328469.0      0.0      0.0      0.0   \n1  275920.0  1010990.0  ...  395880.0   965011.0      0.0      0.0      0.0   \n2  155100.0   583910.0  ...  251490.0  1333418.0      0.0      0.0      0.0   \n3   99950.0   423990.0  ...  165320.0  1414283.0      0.0      0.0      0.0   \n4  126860.0   589490.0  ...  212000.0  3820152.0    420.0    168.0     60.0   \n5   41410.0   160530.0  ...   55300.0  6027793.0  22090.0  39519.0  27550.0   \n6     700.0     2160.0  ...     690.0      610.0      0.0      0.0      0.0   \n7     610.0     2540.0  ...    1140.0     3019.0      0.0      0.0      0.0   \n\n    A85300   N11901    A11901    N11902     A11902  \n0      0.0  61920.0   48150.0  732670.0  1933120.0  \n1      0.0  73720.0  107304.0  415410.0  1187403.0  \n2      0.0  64200.0  139598.0  193030.0   536699.0  \n3      0.0  45460.0  128823.0  116440.0   377177.0  \n4     31.0  83330.0  421004.0  121570.0   483682.0  \n5  95112.0  28590.0  791573.0   15960.0   250289.0  \n6      0.0    120.0      94.0    1290.0     2792.0  \n7      0.0    210.0     301.0    1130.0     2935.0  \n\n[8 rows x 131 columns]",
      "text/html": "<div>\n<style scoped>\n    .dataframe tbody tr th:only-of-type {\n        vertical-align: middle;\n    }\n\n    .dataframe tbody tr th {\n        vertical-align: top;\n    }\n\n    .dataframe thead th {\n        text-align: right;\n    }\n</style>\n<table border=\"1\" class=\"dataframe\">\n  <thead>\n    <tr style=\"text-align: right;\">\n      <th></th>\n      <th>STATEFIPS</th>\n      <th>STATE</th>\n      <th>ZIPCODE</th>\n      <th>AGI_STUB</th>\n      <th>N1</th>\n      <th>MARS1</th>\n      <th>MARS2</th>\n      <th>MARS4</th>\n      <th>PREP</th>\n      <th>N2</th>\n      <th>...</th>\n      <th>N10300</th>\n      <th>A10300</th>\n      <th>N85530</th>\n      <th>A85530</th>\n      <th>N85300</th>\n      <th>A85300</th>\n      <th>N11901</th>\n      <th>A11901</th>\n      <th>N11902</th>\n      <th>A11902</th>\n    </tr>\n  </thead>\n  <tbody>\n    <tr>\n      <th>0</th>\n      <td>1.0</td>\n      <td>AL</td>\n      <td>0.0</td>\n      <td>1.0</td>\n      <td>836320.0</td>\n      <td>481570.0</td>\n      <td>109790.0</td>\n      <td>233260.0</td>\n      <td>455560.0</td>\n      <td>1356760.0</td>\n      <td>...</td>\n      <td>373410.0</td>\n      <td>328469.0</td>\n      <td>0.0</td>\n      <td>0.0</td>\n      <td>0.0</td>\n      <td>0.0</td>\n      <td>61920.0</td>\n      <td>48150.0</td>\n      <td>732670.0</td>\n      <td>1933120.0</td>\n    </tr>\n    <tr>\n      <th>1</th>\n      <td>1.0</td>\n      <td>AL</td>\n      <td>0.0</td>\n      <td>2.0</td>\n      <td>494830.0</td>\n      <td>206630.0</td>\n      <td>146250.0</td>\n      <td>129390.0</td>\n      <td>275920.0</td>\n      <td>1010990.0</td>\n      <td>...</td>\n      <td>395880.0</td>\n      <td>965011.0</td>\n      <td>0.0</td>\n      <td>0.0</td>\n      <td>0.0</td>\n      <td>0.0</td>\n      <td>73720.0</td>\n      <td>107304.0</td>\n      <td>415410.0</td>\n      <td>1187403.0</td>\n    </tr>\n    <tr>\n      <th>2</th>\n      <td>1.0</td>\n      <td>AL</td>\n      <td>0.0</td>\n      <td>3.0</td>\n      <td>261250.0</td>\n      <td>80720.0</td>\n      <td>139280.0</td>\n      <td>36130.0</td>\n      <td>155100.0</td>\n      <td>583910.0</td>\n      <td>...</td>\n      <td>251490.0</td>\n      <td>1333418.0</td>\n      <td>0.0</td>\n      <td>0.0</td>\n      <td>0.0</td>\n      <td>0.0</td>\n      <td>64200.0</td>\n      <td>139598.0</td>\n      <td>193030.0</td>\n      <td>536699.0</td>\n    </tr>\n    <tr>\n      <th>3</th>\n      <td>1.0</td>\n      <td>AL</td>\n      <td>0.0</td>\n      <td>4.0</td>\n      <td>166690.0</td>\n      <td>28510.0</td>\n      <td>124650.0</td>\n      <td>10630.0</td>\n      <td>99950.0</td>\n      <td>423990.0</td>\n      <td>...</td>\n      <td>165320.0</td>\n      <td>1414283.0</td>\n      <td>0.0</td>\n      <td>0.0</td>\n      <td>0.0</td>\n      <td>0.0</td>\n      <td>45460.0</td>\n      <td>128823.0</td>\n      <td>116440.0</td>\n      <td>377177.0</td>\n    </tr>\n    <tr>\n      <th>4</th>\n      <td>1.0</td>\n      <td>AL</td>\n      <td>0.0</td>\n      <td>5.0</td>\n      <td>212660.0</td>\n      <td>19520.0</td>\n      <td>184320.0</td>\n      <td>4830.0</td>\n      <td>126860.0</td>\n      <td>589490.0</td>\n      <td>...</td>\n      <td>212000.0</td>\n      <td>3820152.0</td>\n      <td>420.0</td>\n      <td>168.0</td>\n      <td>60.0</td>\n      <td>31.0</td>\n      <td>83330.0</td>\n      <td>421004.0</td>\n      <td>121570.0</td>\n      <td>483682.0</td>\n    </tr>\n    <tr>\n      <th>5</th>\n      <td>1.0</td>\n      <td>AL</td>\n      <td>0.0</td>\n      <td>6.0</td>\n      <td>55360.0</td>\n      <td>2950.0</td>\n      <td>49260.0</td>\n      <td>350.0</td>\n      <td>41410.0</td>\n      <td>160530.0</td>\n      <td>...</td>\n      <td>55300.0</td>\n      <td>6027793.0</td>\n      <td>22090.0</td>\n      <td>39519.0</td>\n      <td>27550.0</td>\n      <td>95112.0</td>\n      <td>28590.0</td>\n      <td>791573.0</td>\n      <td>15960.0</td>\n      <td>250289.0</td>\n    </tr>\n    <tr>\n      <th>6</th>\n      <td>1.0</td>\n      <td>AL</td>\n      <td>35004.0</td>\n      <td>1.0</td>\n      <td>1490.0</td>\n      <td>970.0</td>\n      <td>230.0</td>\n      <td>280.0</td>\n      <td>700.0</td>\n      <td>2160.0</td>\n      <td>...</td>\n      <td>690.0</td>\n      <td>610.0</td>\n      <td>0.0</td>\n      <td>0.0</td>\n      <td>0.0</td>\n      <td>0.0</td>\n      <td>120.0</td>\n      <td>94.0</td>\n      <td>1290.0</td>\n      <td>2792.0</td>\n    </tr>\n    <tr>\n      <th>7</th>\n      <td>1.0</td>\n      <td>AL</td>\n      <td>35004.0</td>\n      <td>2.0</td>\n      <td>1350.0</td>\n      <td>630.0</td>\n      <td>360.0</td>\n      <td>300.0</td>\n      <td>610.0</td>\n      <td>2540.0</td>\n      <td>...</td>\n      <td>1140.0</td>\n      <td>3019.0</td>\n      <td>0.0</td>\n      <td>0.0</td>\n      <td>0.0</td>\n      <td>0.0</td>\n      <td>210.0</td>\n      <td>301.0</td>\n      <td>1130.0</td>\n      <td>2935.0</td>\n    </tr>\n  </tbody>\n</table>\n<p>8 rows × 131 columns</p>\n</div>"
     },
     "execution_count": 4,
     "metadata": {},
     "output_type": "execute_result"
    }
   ],
   "source": [
    "## WRITE YOUR CODE HERE \n",
    "tax_data.columns = tax_data.columns.str.upper()\n",
    "tax_data.head(8)"
   ]
  },
  {
   "cell_type": "markdown",
   "metadata": {},
   "source": [
    "Determine the total number of entries (instances or records) present in the `tax_data` dataset, utilizing only `DataFrame` or `Series` methods or properties.\n"
   ]
  },
  {
   "cell_type": "code",
   "execution_count": 5,
   "metadata": {
    "ExecuteTime": {
     "end_time": "2024-03-12T09:34:17.609786Z",
     "start_time": "2024-03-12T09:34:17.605505Z"
    }
   },
   "outputs": [
    {
     "data": {
      "text/plain": "166698"
     },
     "execution_count": 5,
     "metadata": {},
     "output_type": "execute_result"
    }
   ],
   "source": [
    "## WRITE YOUR CODE HERE \n",
    "tax_data.shape[0]"
   ]
  },
  {
   "cell_type": "markdown",
   "metadata": {},
   "source": [
    "Write a single Python expression using either `DataFrame` or `Series` methods or properties to print the title of the 32nd column in the `tax_data` DataFrame, assuming `STATEFIPS` is the label of the first column."
   ]
  },
  {
   "cell_type": "code",
   "execution_count": 6,
   "metadata": {
    "ExecuteTime": {
     "end_time": "2024-03-12T09:34:25.399087Z",
     "start_time": "2024-03-12T09:34:25.395156Z"
    }
   },
   "outputs": [
    {
     "data": {
      "text/plain": "'N00900'"
     },
     "execution_count": 6,
     "metadata": {},
     "output_type": "execute_result"
    }
   ],
   "source": [
    "## WRITE YOUR CODE HERE \n",
    "tax_data.columns[31]"
   ]
  },
  {
   "cell_type": "markdown",
   "metadata": {},
   "source": [
    "Determine the column index for `N10300` in a `DataFrame` where `STATEFIPS` is the first column (index 0). You must use only `DataFrame` or `Series` methods or properties for your calculation.\n"
   ]
  },
  {
   "cell_type": "code",
   "execution_count": 7,
   "metadata": {
    "ExecuteTime": {
     "end_time": "2024-03-12T09:34:34.112202Z",
     "start_time": "2024-03-12T09:34:34.107138Z"
    }
   },
   "outputs": [
    {
     "data": {
      "text/plain": "121"
     },
     "execution_count": 7,
     "metadata": {},
     "output_type": "execute_result"
    }
   ],
   "source": [
    "## WRITE YOUR CODE HERE \n",
    "tax_data.columns.get_loc('N10300')"
   ]
  },
  {
   "cell_type": "markdown",
   "metadata": {},
   "source": [
    "- Calculate and display the number of unique zip codes per state, sorted in descending order of count. Utilize only `DataFrame` or `Series` methods or attributes for this task.\n",
    "\n",
    "- The expected output format is provided below, with '...' signifying additional data not displayed:\n",
    "\n",
    "```python\n",
    "        ZIPCODE\n",
    "STATE\t\n",
    "TX\t     9714\n",
    "NY\t     9238\n",
    "CA\t     8908\n",
    "PA\t     8208\n",
    "IL\t     7386\n",
    "...\n",
    "```\n",
    "\n",
    "* This output signifies the existence of 9,714 unique zip codes in TX, 9,238 in NY, and so forth.\n"
   ]
  },
  {
   "cell_type": "code",
   "execution_count": 8,
   "metadata": {
    "ExecuteTime": {
     "end_time": "2024-03-12T09:34:46.442053Z",
     "start_time": "2024-03-12T09:34:46.412960Z"
    }
   },
   "outputs": [
    {
     "data": {
      "text/plain": "STATE\nTX    1619\nNY    1540\nCA    1485\nPA    1368\nIL    1231\nOH     998\nFL     920\nMI     892\nMO     890\nIA     827\nVA     793\nMN     792\nNC     725\nWI     714\nIN     674\nGA     667\nKY     656\nKS     598\nTN     590\nAL     577\nNJ     547\nOK     547\nWV     512\nWA     497\nAR     490\nNE     486\nMA     482\nLA     453\nMD     405\nCO     395\nSC     376\nMS     370\nME     370\nOR     356\nAZ     295\nND     287\nSD     287\nCT     264\nVT     238\nNH     232\nMT     225\nID     213\nNM     209\nUT     186\nNV     128\nWY     109\nRI      71\nHI      60\nDE      57\nAK      56\nDC      24\nName: ZIPCODE, dtype: int64"
     },
     "execution_count": 8,
     "metadata": {},
     "output_type": "execute_result"
    }
   ],
   "source": [
    "## WRITE YOUR CODE HERE \n",
    "unique_zipcodes_by_state = (tax_data.\n",
    "                            groupby('STATE')['ZIPCODE'].\n",
    "                            nunique().\n",
    "                            sort_values(ascending=False))\n",
    "unique_zipcodes_by_state"
   ]
  },
  {
   "cell_type": "markdown",
   "metadata": {},
   "source": [
    "Determine the index of 'HI' within the list that enumerates the number of zip codes for each state, as created in the preceding question. Restrict your methods or attributes to those available within `DataFrame` or `Series`.\n"
   ]
  },
  {
   "cell_type": "code",
   "execution_count": 9,
   "metadata": {
    "ExecuteTime": {
     "end_time": "2024-03-12T09:34:56.543722Z",
     "start_time": "2024-03-12T09:34:56.538851Z"
    }
   },
   "outputs": [
    {
     "data": {
      "text/plain": "47"
     },
     "execution_count": 9,
     "metadata": {},
     "output_type": "execute_result"
    }
   ],
   "source": [
    "## WRITE YOUR CODE HERE \n",
    "unique_zipcodes_by_state.index.get_loc('HI')"
   ]
  },
  {
   "cell_type": "markdown",
   "metadata": {},
   "source": [
    "### 2. Identifying and Removing Ambiguous Zip Codes\n",
    "\n",
    "Calculate the total number of records where the ZIPCODE value is 0. Store the result in a variable named nb_invalid_zip.\n"
   ]
  },
  {
   "cell_type": "code",
   "execution_count": 10,
   "metadata": {
    "ExecuteTime": {
     "end_time": "2024-03-12T09:35:04.811508Z",
     "start_time": "2024-03-12T09:35:04.806649Z"
    }
   },
   "outputs": [
    {
     "data": {
      "text/plain": "306"
     },
     "execution_count": 10,
     "metadata": {},
     "output_type": "execute_result"
    }
   ],
   "source": [
    "## WRITE YOUR CODE HERE \n",
    "nb_invalid_zip = int((tax_data['ZIPCODE'] == 0).sum())\n",
    "nb_invalid_zip"
   ]
  },
  {
   "cell_type": "markdown",
   "metadata": {},
   "source": [
    "- Execute the line of code provided in the code cell below to verify that `nb_invalid_zip` is of type `int`.\n",
    "  - Keep in mind that `assert` will produce an error if `type(nb_invalid_zip)` does not return `int`.\n",
    "- Should the code cell below result in an error, adjust your previous response to ensure `nb_invalid_zip` is represented as a numerical value.\n"
   ]
  },
  {
   "cell_type": "code",
   "execution_count": 11,
   "metadata": {
    "ExecuteTime": {
     "end_time": "2024-03-12T09:35:10.586818Z",
     "start_time": "2024-03-12T09:35:10.583592Z"
    }
   },
   "outputs": [],
   "source": [
    "assert(type(nb_invalid_zip) == int)"
   ]
  },
  {
   "cell_type": "markdown",
   "metadata": {},
   "source": [
    "Filter out all rows from the `DataFrame` `tax_data` where the zip code is equal to `0`. Store the filtered `DataFrame` in a new variable called `tax_data_valid_zip`. Use only `DataFrame` or `Series` methods or properties in your solution.\n"
   ]
  },
  {
   "cell_type": "code",
   "execution_count": 12,
   "metadata": {
    "ExecuteTime": {
     "end_time": "2024-03-12T09:35:19.266481Z",
     "start_time": "2024-03-12T09:35:19.185986Z"
    }
   },
   "outputs": [
    {
     "data": {
      "text/plain": "166392"
     },
     "execution_count": 12,
     "metadata": {},
     "output_type": "execute_result"
    }
   ],
   "source": [
    "## WRITE YOUR CODE HERE \n",
    "tax_data_valid_zip = tax_data.query('ZIPCODE != 0')\n",
    "tax_data_valid_zip.shape[0]"
   ]
  },
  {
   "cell_type": "markdown",
   "metadata": {},
   "source": [
    "* Execute the following line to ensure the operation was successful.\n",
    "\n",
    "  * Verify that the sum of rows with \"zip code equal to 0\" and the number of rows in `tax_data_valid_zip` equals the total number of rows in the `tax_data` DataFrame.\n",
    "\n",
    "If the sum does not match the total rows in `tax_data`, the assertion will fail and display an error message. In such an event, review your previous code.\n"
   ]
  },
  {
   "cell_type": "code",
   "execution_count": 13,
   "metadata": {
    "ExecuteTime": {
     "end_time": "2024-03-12T09:35:26.481604Z",
     "start_time": "2024-03-12T09:35:26.478132Z"
    }
   },
   "outputs": [],
   "source": [
    "assert((tax_data_valid_zip.shape[0] + nb_invalid_zip) == tax_data.shape[0])"
   ]
  },
  {
   "cell_type": "markdown",
   "metadata": {},
   "source": [
    "### Identifying and Removing Lines with Missing Values\n",
    "\n",
    "- Find the number of rows in the `tax_data_valid_zip` DataFrame that have at least one `NaN` value. Use only `DataFrame` methods and properties for this calculation.\n",
    "- Store the count of rows with any `NaN` values in a variable named `nb_missing_values`.\n"
   ]
  },
  {
   "cell_type": "code",
   "execution_count": 14,
   "metadata": {
    "ExecuteTime": {
     "end_time": "2024-03-12T09:35:38.229175Z",
     "start_time": "2024-03-12T09:35:38.201329Z"
    }
   },
   "outputs": [
    {
     "data": {
      "text/plain": "199"
     },
     "execution_count": 14,
     "metadata": {},
     "output_type": "execute_result"
    }
   ],
   "source": [
    "## WRITE YOUR CODE HERE \n",
    "nb_missing_values = (tax_data_valid_zip.\n",
    "                     isna().\n",
    "                     any(axis=1).\n",
    "                     sum())\n",
    "nb_missing_values"
   ]
  },
  {
   "cell_type": "markdown",
   "metadata": {},
   "source": [
    "- Create a new `DataFrame` named `tax_data_valid_zip_cleaned` that includes all rows from `tax_data_valid_zip` while excluding any rows with missing values (`NaN`).\n"
   ]
  },
  {
   "cell_type": "code",
   "execution_count": 15,
   "metadata": {
    "ExecuteTime": {
     "end_time": "2024-03-12T09:35:47.910879Z",
     "start_time": "2024-03-12T09:35:47.824192Z"
    }
   },
   "outputs": [
    {
     "data": {
      "text/plain": "166193"
     },
     "execution_count": 15,
     "metadata": {},
     "output_type": "execute_result"
    }
   ],
   "source": [
    "## WRITE YOUR CODE HERE \n",
    "tax_data_valid_zip_cleaned = tax_data_valid_zip.dropna()\n",
    "tax_data_valid_zip_cleaned.shape[0]"
   ]
  },
  {
   "cell_type": "markdown",
   "metadata": {},
   "source": [
    "Execute the line below to verify the operation's success. Ensure that the sum of `nb_missing_values` and the number of lines in `tax_data_valid_zip_cleaned` equals the total number of lines in `tax_data_valid_zip`. Remember, an assertion error will occur if the expected results are not met.\n"
   ]
  },
  {
   "cell_type": "code",
   "execution_count": 16,
   "metadata": {
    "ExecuteTime": {
     "end_time": "2024-03-12T09:35:53.516852Z",
     "start_time": "2024-03-12T09:35:53.512751Z"
    }
   },
   "outputs": [],
   "source": [
    "assert((tax_data_valid_zip_cleaned.shape[0] + nb_missing_values) == tax_data_valid_zip.shape[0])"
   ]
  },
  {
   "cell_type": "markdown",
   "metadata": {},
   "source": [
    "### Computing the Percentile Income per Zip Code\n",
    "\n",
    "- Understand the functionality of `compute_percentile_zipcode` which calculates the percentile income for each zip code.\n",
    "- Note that the default `percentile` value is 0.5, meaning the function, by default, computes the median income.\n",
    "- Carefully review the code to make sure you understand it before to proceeding with the subsequent question.\n"
   ]
  },
  {
   "cell_type": "code",
   "execution_count": 17,
   "metadata": {
    "ExecuteTime": {
     "end_time": "2024-03-12T09:36:03.921812Z",
     "start_time": "2024-03-12T09:36:03.917918Z"
    }
   },
   "outputs": [],
   "source": [
    "def compute_percentile_zip(df_zip, percentile=0.5):     \n",
    "    index_median = sum(( df_zip[\"N1\"]/ sum(df_zip[\"N1\"])).cumsum() <= percentile)\n",
    "    val_below_or_at_median = (df_zip[\"A00100\"] /df_zip[\"N1\"]).iloc[index_median]\n",
    "    return val_below_or_at_median"
   ]
  },
  {
   "cell_type": "markdown",
   "metadata": {},
   "source": [
    "### Challenge: \n",
    "\n",
    "Calculate the 65th percentile of income for each zip code within the `tax_data_valid_zip_cleaned` DataFrame. Use only `DataFrame` or `Series` methods and properties for your calculation. \n",
    "\n",
    "Organize the calculated values in descending order and store them in a new DataFrame named `zip_rev_all`.\n",
    "\n",
    "Ensure the output Series format is as follows, with '...' indicating additional data not displayed:\n",
    "\n",
    "```python\n",
    "ZIPCODE\n",
    "33109    3954.114286\n",
    "33480    3413.301538\n",
    "...\n",
    "```"
   ]
  },
  {
   "cell_type": "code",
   "execution_count": 4,
   "metadata": {},
   "outputs": [],
   "source": [
    "## WRITE YOUR CODE HERE \n"
   ]
  },
  {
   "cell_type": "markdown",
   "metadata": {},
   "source": [
    "Identify the top three zip codes with the highest 65th percentile income value.\n"
   ]
  },
  {
   "cell_type": "code",
   "execution_count": 13,
   "metadata": {},
   "outputs": [],
   "source": [
    "## WRITE YOUR CODE HERE "
   ]
  },
  {
   "cell_type": "code",
   "execution_count": null,
   "metadata": {},
   "outputs": [],
   "source": []
  }
 ],
 "metadata": {
  "hide_input": false,
  "kernelspec": {
   "display_name": "Python 3 (ipykernel)",
   "language": "python",
   "name": "python3"
  },
  "language_info": {
   "codemirror_mode": {
    "name": "ipython",
    "version": 3
   },
   "file_extension": ".py",
   "mimetype": "text/x-python",
   "name": "python",
   "nbconvert_exporter": "python",
   "pygments_lexer": "ipython3",
   "version": "3.8.11"
  }
 },
 "nbformat": 4,
 "nbformat_minor": 4
}
