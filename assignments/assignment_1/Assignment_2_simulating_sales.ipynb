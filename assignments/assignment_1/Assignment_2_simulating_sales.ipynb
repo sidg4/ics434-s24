{
 "cells": [
  {
   "cell_type": "code",
   "execution_count": 1,
   "metadata": {
    "id": "LLNUXeCEEHUe",
    "ExecuteTime": {
     "end_time": "2024-03-12T09:55:25.101399Z",
     "start_time": "2024-03-12T09:55:22.859713Z"
    }
   },
   "outputs": [],
   "source": [
    "from scipy import stats\n",
    "import numpy as np\n",
    "import matplotlib.pyplot as plt\n",
    "import scipy as sp\n",
    "import scipy.stats as stats\n",
    "import pandas as pd\n",
    "%matplotlib inline"
   ]
  },
  {
   "cell_type": "markdown",
   "metadata": {
    "id": "--gm55mtEHUg"
   },
   "source": [
    "### Brief Overview\n",
    "\n",
    "This assignment is designed to help you practice with generative models and simulation techniques. You will receive various pieces of information that will guide you through solving a problem in a step-by-step manner. After completing the initial analysis, you will be asked to apply what you have learned to a different question.\n",
    "\n",
    "\n",
    "1. You're limited to using the following Python modules: `matplotlib`, `numpy`, `scipy`, and `pandas`. No other modules are accepted.\n",
    "\n",
    "2. When creating graphs, make sure each one has a title and labels for both axes. You can adjust the size of your plots by using `plt.figure(figsize=(width, height))`, where `width` and `height` are the dimensions of the plot you want.\n",
    "\n"
   ]
  },
  {
   "cell_type": "markdown",
   "metadata": {
    "collapsed": true,
    "id": "tv2GDteKEHUh"
   },
   "source": [
    "Model Revenue for Membership-based Training Website in 2022\n",
    "\n",
    "- Overview: Calculate sales revenue for a website that charges a $39.99 monthly membership fee. Users can take any amount of time to complete their training and can leave the platform anytime.\n",
    "\n",
    "Key Points:\n",
    "- Women tend to complete training faster and quit less often than men.\n",
    "- The likelihood of a student quitting decreases the longer they are enrolled.\n",
    "- Membership has grown by an average of 13\\% yearly over the last five years, with a 1.4\\% standard deviation. In 2021, 90,316 people enrolled.\n",
    "\n",
    "* Data Source:\n",
    "- Access historical data from `memberships_info.csv` available at [URL](https://www.dropbox.com/s/evaaiu1mevw6t3j/memberships_info.csv?dl=1).\n",
    "\n",
    "Data Details:\n",
    "\n",
    "| Column       | Description                                   |\n",
    "|--------------|-----------------------------------------------|\n",
    "| member_id    | Unique member identifier                      |\n",
    "| gender       | Gender: M (male) or F (female)                |\n",
    "| status       | Membership status: C (completed) or Q (quit)  |\n",
    "| mem_duration | Membership length in months                   |\n",
    "\n",
    "Below, you will create a generative model to estimate next year's revenue by determining the model's parameters and hypothesizing their distributions for estimation.\n"
   ]
  },
  {
   "cell_type": "markdown",
   "metadata": {
    "collapsed": true,
    "id": "Fdq_h1aiEHUh"
   },
   "source": [
    "### Reading the Data\n",
    "\n",
    "- Load the dataset using pandas and store it in a variable named `sample_users`.\n",
    "- Calculate the percentage of males who have completed the training in the dataset.\n"
   ]
  },
  {
   "cell_type": "code",
   "execution_count": 2,
   "metadata": {
    "id": "gQr6xXbxEHUi",
    "outputId": "9415b5e0-69fe-40ca-df40-15c1cf6daf20",
    "colab": {
     "base_uri": "https://localhost:8080/"
    },
    "ExecuteTime": {
     "end_time": "2024-03-12T09:55:41.848223Z",
     "start_time": "2024-03-12T09:55:39.275509Z"
    }
   },
   "outputs": [
    {
     "data": {
      "text/plain": "60.27584036918559"
     },
     "execution_count": 2,
     "metadata": {},
     "output_type": "execute_result"
    }
   ],
   "source": [
    "# Write your code here\n",
    "sample_users = pd.read_csv('https://www.dropbox.com/s/evaaiu1mevw6t3j/memberships_info.csv?dl=1');\n",
    "\n",
    "completed_training_males = sample_users[(sample_users['gender'] == 'M') & (sample_users['status'] == 'C')]\n",
    "num_completed_training_males = completed_training_males.shape[0]\n",
    "total_males = sample_users[sample_users['gender'] == 'M'].shape[0]\n",
    "\n",
    "percentage_completed_training_males = (num_completed_training_males / total_males) * 100\n",
    "percentage_completed_training_males"
   ]
  },
  {
   "cell_type": "markdown",
   "metadata": {
    "id": "E6HCoDlEEHUi"
   },
   "source": [
    "### Generative Model for our Simulations\n",
    "\n",
    "Below is an explanation of the model we will use to figure out yearly sales. The model works in 4 steps:\n",
    "\n",
    "1. Guess the number of new (future) members using a  $\\mu=13$ and $\\sigma =1.4$ i from last year, 2021.\n",
    "\n",
    "2. For each new member, decide if they will:\n",
    "\n",
    "  2.1 Leave the training: If so, sample the the number of months they stay before leaving.\n",
    "      \n",
    "  2.2 Finish the training: If so, sample the the number of months they stay until they finish.\n",
    "\n",
    "3. Compute the revenue from memberships based on the total number of months of enrollment simulated for each member.\n",
    "\n",
    "* Look at the picture below to understand this better.\n"
   ]
  },
  {
   "cell_type": "markdown",
   "metadata": {
    "id": "mM7H9L1lEHUi"
   },
   "source": [
    "<img src=\"https://www.dropbox.com/s/xvvof9g36m7pthq/generative_model_diagram.png?dl=1\" alt=\"drawing\" style=\"width:700px;\"/>"
   ]
  },
  {
   "cell_type": "code",
   "execution_count": 3,
   "metadata": {
    "id": "ceqOjwBfEHUj",
    "ExecuteTime": {
     "end_time": "2024-03-12T09:55:46.041585Z",
     "start_time": "2024-03-12T09:55:46.038091Z"
    }
   },
   "outputs": [],
   "source": [
    "from scipy.stats import norm\n"
   ]
  },
  {
   "cell_type": "code",
   "execution_count": 4,
   "metadata": {
    "id": "lRR_NUE4EHUj",
    "outputId": "a3201d7d-3d2b-484d-c913-f6a12eb82857",
    "colab": {
     "base_uri": "https://localhost:8080/"
    },
    "ExecuteTime": {
     "end_time": "2024-03-12T09:55:48.201352Z",
     "start_time": "2024-03-12T09:55:48.193759Z"
    }
   },
   "outputs": [
    {
     "data": {
      "text/plain": "0.007978845608028654"
     },
     "execution_count": 4,
     "metadata": {},
     "output_type": "execute_result"
    }
   ],
   "source": [
    "d = norm(0,0.005)\n",
    "d.pdf(0) * 0.0001"
   ]
  },
  {
   "cell_type": "markdown",
   "metadata": {
    "id": "1DnOsSVhEHUj"
   },
   "source": [
    "### Estimating the 95% Confidence Interval from Simulations\n",
    "\n",
    "- The goal is not to identify a single value but to determine the range where the revenue is likely to be found 95% of the time. To achieve this, repeat the simulation 5,000 times to calculate the 95% confidence interval for the revenue.\n"
   ]
  },
  {
   "cell_type": "markdown",
   "metadata": {
    "id": "h2LuxF24EHUj"
   },
   "source": [
    "###  1. Generating the Number of Enrollees\n",
    "\n",
    "- The training company anticipates a growth rate in enrollments for 2022 similar to previous years, with an expected mean growth rate of 13% (μ=13%) and a standard deviation of 1.4% (σ=1.4%).\n",
    "- Given the enrollment figure of 90,316 from the previous year, calculate the projected number of enrollments for 2022 using the normal distribution. This projection will serve as a single data point in the generative model.\n",
    "- Store the projected enrollment number in a variable named `nb_enrollees`. Make sure you convert this number to an integer, as the normal distribution will generate a continuous value.\n",
    "\n"
   ]
  },
  {
   "cell_type": "code",
   "execution_count": 5,
   "metadata": {
    "id": "uD8eVZWOEHUk",
    "colab": {
     "base_uri": "https://localhost:8080/"
    },
    "outputId": "14064bb9-84cd-40f9-999d-832418234492",
    "ExecuteTime": {
     "end_time": "2024-03-12T09:55:53.924913Z",
     "start_time": "2024-03-12T09:55:53.916185Z"
    }
   },
   "outputs": [
    {
     "data": {
      "text/plain": "102038"
     },
     "execution_count": 5,
     "metadata": {},
     "output_type": "execute_result"
    }
   ],
   "source": [
    "# Write your code here\n",
    "np.random.seed(10)\n",
    "\n",
    "# Mean growth rate 13%, Standard deviation 1.4%, Previous enrollment 90316\n",
    "mu = 0.13\n",
    "sigma = 0.014\n",
    "prev = 90316\n",
    "\n",
    "mgr_samples = np.random.normal(mu, sigma, 1000)\n",
    "\n",
    "nb_enrollees = np.int32(prev * (1 + mgr_samples.mean()))\n",
    "nb_enrollees"
   ]
  },
  {
   "cell_type": "markdown",
   "metadata": {
    "id": "gJrps2s1EHUk"
   },
   "source": [
    "### Understanding Resampling for Confidence Interval Estimation\n",
    "\n",
    "- Calculate a 98% confidence interval for the proportion of participants who quit the training program before completion, using the `sample_users` dataset. To estimate a 98% confidence interval for the proportion of participants who quit the training program, we'll use a technique called resampling. This involves randomly selecting the same number of observations from our data as the original dataset, with replacement, and repeating this process 10,000 times. Each iteration calculates the quit proportion anew.\n",
    "\n",
    "  * To find the quit rate for one instance, divide the number of participants who quit (indicated by `status == \"Q\"`) by the total number of participants.\n",
    "\n",
    "- Resampling is beneficial because it allows us to model the variability and estimate the uncertainty of our statistic (in this case, the quit proportion) without needing a larger dataset or making assumptions about the data's distribution.\n",
    "\n",
    "- The result of these 10,000 resampling iterations will be used to construct the 98% confidence interval, providing a range of values within which the true quit proportion is likely to fall.\n"
   ]
  },
  {
   "cell_type": "code",
   "execution_count": 6,
   "metadata": {
    "id": "ebHwmXg2EHUl",
    "colab": {
     "base_uri": "https://localhost:8080/"
    },
    "outputId": "8bc2dc95-faac-4356-d611-5840fec4f213",
    "ExecuteTime": {
     "end_time": "2024-03-12T09:56:00.939695Z",
     "start_time": "2024-03-12T09:55:58.398166Z"
    }
   },
   "outputs": [
    {
     "name": "stdout",
     "output_type": "stream",
     "text": [
      "98% Confidence Interval for Proportion of Participants Who Quit:\n",
      "Lower Bound: 0.35822881186520167\n",
      "Upper Bound: 0.3616202012901638\n"
     ]
    }
   ],
   "source": [
    "# Write your code here\n",
    "def quit_proportion(data):\n",
    "    return np.sum(data == 'Q') / data.size\n",
    "\n",
    "resampled_quit_proportions = []\n",
    "num_iterations = 200\n",
    "\n",
    "for _ in range(num_iterations):\n",
    "    resampled_data = np.random.choice(sample_users['status'], size=sample_users.size, replace=True)\n",
    "    quit_prop = quit_proportion(resampled_data)\n",
    "    resampled_quit_proportions.append(quit_prop)\n",
    "\n",
    "confidence_interval = np.percentile(resampled_quit_proportions, [1, 99])\n",
    "\n",
    "print(\"98% Confidence Interval for Proportion of Participants Who Quit:\")\n",
    "print(\"Lower Bound:\", confidence_interval[0])\n",
    "print(\"Upper Bound:\", confidence_interval[1])"
   ]
  },
  {
   "cell_type": "markdown",
   "metadata": {
    "id": "lIgGsE0pEHUl"
   },
   "source": [
    "\n",
    "### 2. Generating a Radom Quitting Probability\n",
    "\n",
    "The quitting parameter falls within the 98% confidence interval approximately 98% of the time. To account for this variability in our simulation model, we will select a quitting probability from this interval at random and use it to calculate the estimated number of individuals quitting in each iteration.\n",
    "\n",
    "- Utilize `np.random.uniform(min, max)` to choose a random value within the specified interval.\n",
    "- For example, if the quitting probability confidence interval, `quit_prop_conf_int`, ranges from 0.2 to 0.3, a potential value could be:\n",
    "\n",
    "```python\n",
    "np.random.uniform(0.2, 0.3)\n",
    "# Result might be: 0.225\n",
    "# This can also be written as:\n",
    "# np.random.uniform(quit_prop_conf_int[0], quit_prop_conf_int[1])\n",
    "```\n",
    "\n",
    "Store the selected value in a variable named `quit_prop`.\n",
    "\n",
    "\n"
   ]
  },
  {
   "cell_type": "code",
   "execution_count": 7,
   "metadata": {
    "id": "RmLwAdztEHUl",
    "colab": {
     "base_uri": "https://localhost:8080/"
    },
    "outputId": "762d466a-46c8-4917-b360-b09a6e3e1803",
    "ExecuteTime": {
     "end_time": "2024-03-12T09:56:07.096864Z",
     "start_time": "2024-03-12T09:56:07.090595Z"
    }
   },
   "outputs": [
    {
     "data": {
      "text/plain": "0.3612588723310465"
     },
     "execution_count": 7,
     "metadata": {},
     "output_type": "execute_result"
    }
   ],
   "source": [
    "# Write your code here\n",
    "quit_prop = np.random.uniform(confidence_interval[0], confidence_interval[1])\n",
    "quit_prop"
   ]
  },
  {
   "cell_type": "markdown",
   "metadata": {
    "id": "cIAd2E_IEHUl"
   },
   "source": [
    "### 3. Simulating the Number for People Who Quit and Those Who Complete the Training\n",
    "\n",
    "\n",
    "- Calculate the number of participants who finish the training and those who quit using `nb_enrollees` and `quit_param`.\n",
    "- Store the number of finishers in `nb_enrollees_finish` and the number of quitters in `nb_enrollees_quit`.\n",
    "  - Ensure the output values are integers.\n",
    "  - Check that the sum of `nb_enrollees_finish` and `nb_enrollees_quit` equals `nb_enrollees`.\n"
   ]
  },
  {
   "cell_type": "code",
   "execution_count": 8,
   "metadata": {
    "id": "t4x8LnGjEHUm",
    "colab": {
     "base_uri": "https://localhost:8080/"
    },
    "outputId": "cc7a24dd-9607-4c85-9212-563f4993c205",
    "ExecuteTime": {
     "end_time": "2024-03-12T09:56:12.103469Z",
     "start_time": "2024-03-12T09:56:12.097750Z"
    }
   },
   "outputs": [
    {
     "name": "stdout",
     "output_type": "stream",
     "text": [
      "Number of participants who finish the training: 65176\n",
      "Number of participants who quit: 36862\n"
     ]
    }
   ],
   "source": [
    "# Write your code here\n",
    "nb_enrollees_finish = np.int32(round(nb_enrollees * (1 - quit_prop)))\n",
    "nb_enrollees_quit = np.int32(round(nb_enrollees * quit_prop))\n",
    "\n",
    "assert(nb_enrollees_finish + nb_enrollees_quit == nb_enrollees)\n",
    "\n",
    "print(\"Number of participants who finish the training:\", nb_enrollees_finish)\n",
    "print(\"Number of participants who quit:\", nb_enrollees_quit)"
   ]
  },
  {
   "cell_type": "markdown",
   "metadata": {
    "id": "w9ppgIddEHUm"
   },
   "source": [
    "### Determining the Number of Payments Enrollees Make Before Quitting\n",
    "\n",
    "- Below, we will model the duration of enrollment in months before a participant opts out.\n",
    "\n",
    "- Note that the likelihood of opting out decreases as participants approach the end of their training:\n",
    "  - The first month has the highest dropout rate compared to any other month.\n",
    "  - The dropout probability in month `t` is always greater than in month `t+1`.\n",
    "  - The more months a participant has remained enrolled, the lower their chance of dropping out.\n",
    "\n",
    "Illustrations `A`, `B`, and `C` depict examples of the probability distribution within the constraints mentioned, focusing on the range [1, 10].\n",
    "\n",
    "\n",
    "<img src=\"https://www.dropbox.com/s/ys12ubh0mvmyji5/decay.png?dl=1\" alt=\"drawing\" style=\"width:1400px;\"/>"
   ]
  },
  {
   "cell_type": "markdown",
   "metadata": {
    "id": "1G7fbegOEHUm"
   },
   "source": [
    "### Identifying the Most Likely Parameters\n",
    "\n",
    "\n",
    "- The three figures labeled `A`, `B`, and `C` depict exponential probability distributions. For more details on this distribution, visit: https://docs.scipy.org/doc/scipy/reference/generated/scipy.stats.expon.html\n",
    "\n",
    "- This distribution, similar to a Gaussian, is characterized by two key parameters:\n",
    "  - `loc`: Indicates the peak value of the function.\n",
    "  - `scale`: Defines the rate at which the function's probability declines towards zero. A higher `scale` value means a slower decrease in probability.\n",
    "\n",
    "- For the cases shown in figures `A`, `B`, and `C`, the `loc` parameter is consistently set to 1, reflecting the highest likelihood of individuals opting out within the first month.\n",
    "- These figures are differentiated by their `scale` values, with respective decays of `0.2`, `1`, and `200`.\n",
    "\n",
    "- Below are examples illustrating how to implement the exponential probability distribution (`expon`).\n",
    "\n"
   ]
  },
  {
   "cell_type": "code",
   "execution_count": 81,
   "metadata": {
    "id": "qcXf2hp8EHUm",
    "outputId": "16597fb1-0bd7-4888-d0cb-ac7755445fc3",
    "colab": {
     "base_uri": "https://localhost:8080/",
     "height": 201
    }
   },
   "outputs": [
    {
     "output_type": "execute_result",
     "data": {
      "text/plain": [
       "[<matplotlib.lines.Line2D at 0x7c4eb43c95d0>]"
      ]
     },
     "metadata": {},
     "execution_count": 81
    },
    {
     "output_type": "display_data",
     "data": {
      "text/plain": [
       "<Figure size 2200x400 with 2 Axes>"
      ],
      "image/png": "[encoded data removed]"
     },
     "metadata": {}
    }
   ],
   "source": [
    "plt.figure(figsize=(22,4))\n",
    "x = np.linspace(0, 10, 1000)\n",
    "\n",
    "y_dist_1 = stats.expon(1, 1)\n",
    "y_dist_2 = stats.expon(1, 4)\n",
    "\n",
    "\n",
    "plt.subplot(1, 2, 1)\n",
    "plt.plot(x, y_dist_1.pdf(x), label=\"$a=0.2$\")\n",
    "\n",
    "\n",
    "plt.subplot(1, 2, 2)\n",
    "plt.plot(x, y_dist_2.pdf(x), label=\"$a=1$\")\n",
    "\n"
   ]
  },
  {
   "cell_type": "markdown",
   "metadata": {
    "id": "5iJ8Ic1SEHUn"
   },
   "source": [
    "### Maximizing Log-Likelihood with the Scale Parameter\n",
    "\n",
    "- Determine the `scale` parameter value that results in the highest log-likelihood for our data, assuming `loc=1` to reflect the tendency of enrollees to quit within the first month.\n",
    "\n",
    "- First, calculate the log-likelihood of the dataset with a `scale` value of 5. Remember, the dataset consists of the duration of membership (`mem_duration`) in months for individuals who have quit (`status==\"Q\"`).\n",
    "\n",
    "- Calculate the log-likelihood for the data [2,1,2,3,4] using `location=1` and `scale=5` with the following code:\n",
    "\n",
    "```python\n",
    "log_pdfs = stats.expon(1, 5).logpdf([2,1,2,3,4])\n",
    "sum(log_pdfs)\n",
    "# Alternatively:\n",
    "# sum(stats.expon(1, 5).logpdf([2,1,2,3,4]))\n",
    "```\n",
    "\n",
    "Note: We create the distribution with `stats.expon(1, 5)` and then use it to compute `logpdf([2,1,2,3,4])`."
   ]
  },
  {
   "cell_type": "code",
   "execution_count": 82,
   "metadata": {
    "id": "niPAfgGNEHUn"
   },
   "outputs": [],
   "source": [
    "# Write your code here\n"
   ]
  },
  {
   "cell_type": "markdown",
   "metadata": {
    "id": "prFch3rOEHUn"
   },
   "source": [
    "### Estimating Scale Using the Maximum Likelihood\n",
    "\n",
    "\n",
    "- Calculate and plot the log-likelihood for `scale` values ranging from 1 to 50, based on the given data.\n",
    "\n",
    "- Ensure your plot matches the following characteristics:\n",
    "  - The X-axis should display the possible `scale` values.\n",
    "  - The Y-axis should show the log-likelihood associated with your data.\n",
    "\n",
    "- Important points to note:\n",
    "  - The graph includes a marker at the point where the likelihood reaches its maximum.\n",
    "  - Ensure your graph displays the ticks on the x-axis, unlike the example provided.\n"
   ]
  },
  {
   "cell_type": "code",
   "execution_count": 83,
   "metadata": {
    "id": "s4-KUJEzEHUo"
   },
   "outputs": [],
   "source": [
    "# Write your code here\n"
   ]
  },
  {
   "cell_type": "markdown",
   "metadata": {
    "collapsed": true,
    "id": "KqXqRenMEHUo"
   },
   "source": [
    "### 4. Simulating Users Unenrolling from the Training\n",
    "\n",
    "1. Write a program to estimate the duration (in months) that users who eventually leave the platform might stay before they quit.\n",
    "\n",
    "2. Implement the simulation by drawing samples from an exponential distribution. Use the parameters `loc=1` and a `scale` parameter you've determined previously. For instance, with a scale of 4, your code could look like this:\n",
    "\n",
    "```python\n",
    "scale = 5\n",
    "nb_users = 1\n",
    "stats.expon(1, scale).rvs(nb_users)\n",
    "# Expected output: array([ 2.68001742])\n",
    "```\n",
    "\n",
    "3. The output value represents the simulated duration (in months) a user stayed before quitting. To simulate this for multiple users, adjust the `nb_users` parameter accordingly.\n",
    "\n",
    "4. Since billing is on a monthly basis, round the simulated durations using `np.ceil` to reflect complete months paid.\n",
    "\n",
    "5. For all users who have quit, simulate their subscription durations and store these in a variable named `months_paid_before_quitting` to represent the total months each user paid for before leaving.\n"
   ]
  },
  {
   "cell_type": "code",
   "execution_count": 84,
   "metadata": {
    "id": "FZskZYXMEHUo"
   },
   "outputs": [],
   "source": [
    "# Write your code here\n"
   ]
  },
  {
   "cell_type": "markdown",
   "metadata": {
    "id": "8TBJbzwJEHUo"
   },
   "source": [
    "### Modeling the Membership Duration for Enrollees who Complete the Training\n",
    "\n",
    "1. Calculate the duration of enrollment for users who completed the training, using a method similar to one we've previously discussed. Note that gender differences are not a factor in this analysis.\n",
    "\n",
    "2. Create a Kernel Density Estimate (KDE) plot showing the distribution of enrollment durations for users who completed the training. Ensure your plot resembles the example provided below.\n",
    "\n",
    "Example Plot:\n",
    "![Example KDE Plot](https://www.dropbox.com/s/it164wz91kr44cz/kde.png?dl=1)\n"
   ]
  },
  {
   "cell_type": "code",
   "execution_count": 85,
   "metadata": {
    "id": "YPXQ7zxfEHUp"
   },
   "outputs": [],
   "source": [
    "# Write your code here\n",
    "\n"
   ]
  },
  {
   "cell_type": "markdown",
   "metadata": {
    "id": "0hTKVqc-EHUp"
   },
   "source": [
    "### Visually identifying mean training completion time\n",
    "\n",
    "- Referring to the KDE plot, what is the average completion time for the training?\n",
    "\n"
   ]
  },
  {
   "cell_type": "code",
   "execution_count": 86,
   "metadata": {
    "id": "BCUAnfbGEHUp"
   },
   "outputs": [],
   "source": [
    "### Write your answer here\n",
    "\n"
   ]
  },
  {
   "cell_type": "markdown",
   "metadata": {
    "id": "8bzj18o5EHUp"
   },
   "source": [
    "### Modeling the Membership Duration for Enrollees who Complete the Training - Cont'd\n",
    "\n",
    "\n",
    "- After conducting an online search for probability distributions, you discover that your Kernel Density Estimation (KDE) closely resembles a gamma distribution.\n",
    "\n",
    "  Reference: https://docs.scipy.org/doc/scipy/reference/generated/scipy.stats.gamma.html\n",
    "\n",
    "- The gamma distribution is defined by a shape parameter, denoted as \\(a\\). Consult the `stats.gamma` documentation within the `scipy` package for detailed information.\n",
    "\n",
    "- The following are examples of `stats.gamma` in use: the first example uses \\(a=2\\), and the second uses \\(a=8\\).\n",
    "\n",
    "  ![Examples of Gamma Distribution](https://www.dropbox.com/s/zv9yer46x2qno1x/two_gammas.png?dl=1)\n"
   ]
  },
  {
   "cell_type": "markdown",
   "metadata": {
    "collapsed": true,
    "id": "O04b-GMAEHUq"
   },
   "source": [
    "### Computing the Maximum Likelihood Value of the Parameter $a$\n",
    "\n",
    "- Utilize Maximum Likelihood Estimation (MLE) to determine the value of the shape parameter $a$ that maximizes the log-likelihood of your data, focusing on `mem_duration` for users with `status == \"C\"`.\n",
    "\n",
    "  - Calculate and plot the log-likelihood values for $a$ ranging from 1 to 25, ensuring:\n",
    "    - The X-axis represents the shape parameter $a$.\n",
    "    - The Y-axis shows the log-likelihood values.\n",
    "\n",
    "  - Emphasize on the graph the point where the log-likelihood reaches its maximum. Ensure that the x-axis includes ticks for clarity.\n",
    "\n",
    "  - For computations, you may directly apply the `logpdf` method to the `gamma(a)` object.\n",
    "\n",
    "  ![Log-Likelihood Plot for Gamma Distribution](https://www.dropbox.com/s/dahd99mz258curq/ML_gamma.png?dl=1)\n",
    "\n",
    "\n"
   ]
  },
  {
   "cell_type": "code",
   "execution_count": 87,
   "metadata": {
    "id": "vNA0DYb3EHUq"
   },
   "outputs": [],
   "source": [
    "# Write your code here\n",
    "\n"
   ]
  },
  {
   "cell_type": "markdown",
   "metadata": {
    "id": "Wgj2OGcZEHUq"
   },
   "source": [
    "### Computing the Maximum Likelihood Value of the Parameter $a$ - Cont'd\n",
    "\n",
    "\n",
    "* What is the value that maximizes the likelihood?\n",
    "* Does this value align with what you observed after inspecting rhe KDE graph above?\n",
    "\n"
   ]
  },
  {
   "cell_type": "code",
   "execution_count": 88,
   "metadata": {
    "id": "YVdX6BqFEHUq"
   },
   "outputs": [],
   "source": [
    "# Write you code here\n"
   ]
  },
  {
   "cell_type": "markdown",
   "metadata": {
    "id": "hzJmpmKXEHUq"
   },
   "source": [
    "### 5. Simulating Users Completing the Training\n",
    "\n",
    "\n",
    "- Simulate the number of months users remain enrolled before completing the training using the gamma distribution with the shape parameter $a$ identified from the Maximum Likelihood Estimation.\n",
    "\n",
    "  - For a given $a$, e.g., $a = 5$, you can simulate enrollment duration as follows:\n",
    "  \n",
    "    ```python\n",
    "    import numpy as np\n",
    "    from scipy.stats import gamma\n",
    "    a = 5  # Example shape parameter value\n",
    "    scale = 4\n",
    "    nb_users = 1  # Number of users to simulate\n",
    "    months_paid_before_completion = gamma(a, scale).rvs(nb_users)\n",
    "    print(np.ceil(months_paid_before_completion))\n",
    "    ```\n",
    "  \n",
    "  - Adjust `nb_users` to simulate the enrollment duration for multiple users. Round up the resulting months using `np.ceil`.\n",
    "\n",
    "- Perform the simulation for the total number of users in `nb_enrollees_finish` and store the rounded-up values in a variable named `months_paid_before_finishing`.\n"
   ]
  },
  {
   "cell_type": "code",
   "execution_count": 89,
   "metadata": {
    "id": "3doO_kYBEHUr"
   },
   "outputs": [],
   "source": [
    "# Write your code here\n",
    "\n"
   ]
  },
  {
   "cell_type": "markdown",
   "metadata": {
    "id": "9DC5KvAAEHUr"
   },
   "source": [
    "### 6. Simulating Revenue for a Single Iteration\n",
    "\n",
    "- Calculate the total revenue generated from users who completed the training and those who quit by multiplying the total number of months enrolled by the monthly fee of $39.99.\n",
    "\n",
    "  - The total months of enrollment for users who completed the training are stored in `months_paid_before_finishing`.\n",
    "  \n",
    "  - The total months of enrollment for users who did not complete the training are stored in `months_paid_before_quitting`.\n",
    "\n"
   ]
  },
  {
   "cell_type": "code",
   "execution_count": 90,
   "metadata": {
    "id": "YGhRiHn2EHUs"
   },
   "outputs": [],
   "source": [
    "# Write you code here\n"
   ]
  },
  {
   "cell_type": "markdown",
   "metadata": {
    "id": "DriOEDUEEHUs"
   },
   "source": [
    "### Build a 95% Confidence Interval for the Revenue\n",
    "\n",
    "- Run the simulation process 5000 times to establish a confidence interval. Perform the following steps repeatedly as outlined in the sections below:\n",
    "  \n",
    "  1. Create the number of participants.\n",
    "  2. Assign a random probability for dropping out.\n",
    "  3. Calculate the number of dropouts and completions.\n",
    "  4. Estimate the number of users unenrolling.\n",
    "  5. Estimate the number of users finishing the training.\n",
    "  6. Compute the revenue for each simulation cycle.\n",
    "\n",
    "- Expect the simulation to require several minutes to finish.\n"
   ]
  },
  {
   "cell_type": "code",
   "execution_count": 91,
   "metadata": {
    "id": "nS77hOUfEHUt"
   },
   "outputs": [],
   "source": [
    "# Write you code here\n"
   ]
  },
  {
   "cell_type": "markdown",
   "metadata": {
    "id": "ZrSfKsGJEHUt"
   },
   "source": [
    "## Challenge:\n",
    "\n",
    "### Rewrite the analysis considering gender differences. You will need two new parameters:\n",
    "\n",
    "1. Proportion of males to females among those who quit the training, named `male_female_prop_quit`.\n",
    "   - Use this to determine the gender of a participant who unenrolls.\n",
    "\n",
    "2. Proportion of males to females among those who complete the training, named `male_female_prop_finish`.\n",
    "   - Use this to identify the gender of a participant who completes the training.\n",
    "\n",
    "### Adjustments to distribution parameters for gender:\n",
    "\n",
    "- Instead of one parameter for the inverse decay rate in the exponential distribution, use separate parameters for males and females.\n",
    "\n",
    "- Replace the single gamma distribution shape parameter `a` with two parameters: one for males and another for females.\n",
    "\n",
    "\n"
   ]
  },
  {
   "cell_type": "code",
   "execution_count": 92,
   "metadata": {
    "id": "bf5lIs3CEHUt"
   },
   "outputs": [],
   "source": [
    "# Write you code here\n",
    "\n",
    "\n"
   ]
  },
  {
   "cell_type": "markdown",
   "metadata": {
    "collapsed": true,
    "id": "YUAPM6zEEHUt"
   },
   "source": [
    "### Conclusion\n",
    "\n",
    "\n",
    "* Which do you think is the most accurate model, the one that takes into account the gender differences of the one that does not? Justify your answler.\n",
    "\n",
    "\n"
   ]
  },
  {
   "cell_type": "markdown",
   "metadata": {
    "id": "VQUTmj__EHUt"
   },
   "source": [
    "###### Write you answer here"
   ]
  }
 ],
 "metadata": {
  "celltoolbar": "Slideshow",
  "colab": {
   "provenance": []
  },
  "hide_input": false,
  "kernelspec": {
   "display_name": "Python 3 (ipykernel)",
   "language": "python",
   "name": "python3"
  },
  "language_info": {
   "codemirror_mode": {
    "name": "ipython",
    "version": 3
   },
   "file_extension": ".py",
   "mimetype": "text/x-python",
   "name": "python",
   "nbconvert_exporter": "python",
   "pygments_lexer": "ipython3",
   "version": "3.9.16"
  }
 },
 "nbformat": 4,
 "nbformat_minor": 0
}
